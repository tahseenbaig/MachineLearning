{
 "cells": [
  {
   "cell_type": "code",
   "execution_count": null,
   "metadata": {},
   "outputs": [],
   "source": [
    "\"\"\"\n",
    "Dataset:\n",
    "https://archive.ics.uci.edu/ml/datasets/Online+Video+Characteristics+and+Transcoding+Time+Dataset\n",
    "\n",
    "Online Video Characteristics Dataset for YouTube Videos - has 2 tsv files:\n",
    "The first contains 10 columns of fundamental \n",
    "video characteristics for 1.6 million youtube videos;\n",
    "That file - youtube_videos.tsv - is used in this notebook\n",
    "\n",
    "#######\n",
    "Video Quality is measured in video bitrate(Kbps).\n",
    "Only columns (parameters) impacting the video bitrate are retained in the dataframe. others are dropped.\n",
    "\"\"\""
   ]
  },
  {
   "cell_type": "code",
   "execution_count": 193,
   "metadata": {},
   "outputs": [],
   "source": [
    "import pandas as pd\n",
    "import matplotlib.pyplot as plt\n",
    "%matplotlib inline\n",
    "import numpy as np"
   ]
  },
  {
   "cell_type": "code",
   "execution_count": 194,
   "metadata": {},
   "outputs": [],
   "source": [
    "vdf=pd.read_csv('online_video_dataset/youtube_videos.tsv',delimiter='\\t',encoding='utf-8')#,header=None,low_memory=False)"
   ]
  },
  {
   "cell_type": "code",
   "execution_count": 195,
   "metadata": {},
   "outputs": [
    {
     "name": "stdout",
     "output_type": "stream",
     "text": [
      "Dataframe Shape: (168286, 11) \n",
      "\n"
     ]
    }
   ],
   "source": [
    "print(\"Dataframe Shape:\",vdf.shape,\"\\n\")"
   ]
  },
  {
   "cell_type": "code",
   "execution_count": 196,
   "metadata": {},
   "outputs": [
    {
     "data": {
      "text/html": [
       "<div>\n",
       "<style scoped>\n",
       "    .dataframe tbody tr th:only-of-type {\n",
       "        vertical-align: middle;\n",
       "    }\n",
       "\n",
       "    .dataframe tbody tr th {\n",
       "        vertical-align: top;\n",
       "    }\n",
       "\n",
       "    .dataframe thead th {\n",
       "        text-align: right;\n",
       "    }\n",
       "</style>\n",
       "<table border=\"1\" class=\"dataframe\">\n",
       "  <thead>\n",
       "    <tr style=\"text-align: right;\">\n",
       "      <th></th>\n",
       "      <th>id</th>\n",
       "      <th>duration</th>\n",
       "      <th>bitrate</th>\n",
       "      <th>bitrate(video)</th>\n",
       "      <th>height</th>\n",
       "      <th>width</th>\n",
       "      <th>frame rate</th>\n",
       "      <th>frame rate(est.)</th>\n",
       "      <th>codec</th>\n",
       "      <th>category</th>\n",
       "      <th>url</th>\n",
       "    </tr>\n",
       "  </thead>\n",
       "  <tbody>\n",
       "    <tr>\n",
       "      <th>0</th>\n",
       "      <td>uDNj-_5ty48</td>\n",
       "      <td>267</td>\n",
       "      <td>373</td>\n",
       "      <td>274</td>\n",
       "      <td>568</td>\n",
       "      <td>320</td>\n",
       "      <td>29.97</td>\n",
       "      <td>0.00</td>\n",
       "      <td>h264</td>\n",
       "      <td>Music</td>\n",
       "      <td>http://r2---sn-ovgq0oxu-5goe.c.youtube.com/vid...</td>\n",
       "    </tr>\n",
       "    <tr>\n",
       "      <th>1</th>\n",
       "      <td>uDNj-_5ty48</td>\n",
       "      <td>267</td>\n",
       "      <td>512</td>\n",
       "      <td>396</td>\n",
       "      <td>480</td>\n",
       "      <td>270</td>\n",
       "      <td>29.97</td>\n",
       "      <td>29.97</td>\n",
       "      <td>h264</td>\n",
       "      <td>Music</td>\n",
       "      <td>http://r2---sn-ovgq0oxu-5goe.c.youtube.com/vid...</td>\n",
       "    </tr>\n",
       "    <tr>\n",
       "      <th>2</th>\n",
       "      <td>uDNj-_5ty48</td>\n",
       "      <td>267</td>\n",
       "      <td>324</td>\n",
       "      <td>263</td>\n",
       "      <td>400</td>\n",
       "      <td>226</td>\n",
       "      <td>29.97</td>\n",
       "      <td>29.97</td>\n",
       "      <td>flv1</td>\n",
       "      <td>Music</td>\n",
       "      <td>http://r2---sn-ovgq0oxu-5goe.c.youtube.com/vid...</td>\n",
       "    </tr>\n",
       "    <tr>\n",
       "      <th>3</th>\n",
       "      <td>uDNj-_5ty48</td>\n",
       "      <td>267</td>\n",
       "      <td>85</td>\n",
       "      <td>55</td>\n",
       "      <td>176</td>\n",
       "      <td>144</td>\n",
       "      <td>12.00</td>\n",
       "      <td>12.00</td>\n",
       "      <td>mpeg4</td>\n",
       "      <td>Music</td>\n",
       "      <td>http://r2---sn-ovgq0oxu-5goe.c.youtube.com/vid...</td>\n",
       "    </tr>\n",
       "    <tr>\n",
       "      <th>4</th>\n",
       "      <td>WCgt-AactyY</td>\n",
       "      <td>31</td>\n",
       "      <td>1261</td>\n",
       "      <td>1183</td>\n",
       "      <td>640</td>\n",
       "      <td>480</td>\n",
       "      <td>24.00</td>\n",
       "      <td>0.00</td>\n",
       "      <td>h264</td>\n",
       "      <td>People &amp; Blogs</td>\n",
       "      <td>http://r1---sn-ovgq0oxu-5goe.c.youtube.com/vid...</td>\n",
       "    </tr>\n",
       "  </tbody>\n",
       "</table>\n",
       "</div>"
      ],
      "text/plain": [
       "            id  duration  bitrate  bitrate(video)  height  width  frame rate  \\\n",
       "0  uDNj-_5ty48       267      373             274     568    320       29.97   \n",
       "1  uDNj-_5ty48       267      512             396     480    270       29.97   \n",
       "2  uDNj-_5ty48       267      324             263     400    226       29.97   \n",
       "3  uDNj-_5ty48       267       85              55     176    144       12.00   \n",
       "4  WCgt-AactyY        31     1261            1183     640    480       24.00   \n",
       "\n",
       "   frame rate(est.)  codec        category  \\\n",
       "0              0.00   h264           Music   \n",
       "1             29.97   h264           Music   \n",
       "2             29.97   flv1           Music   \n",
       "3             12.00  mpeg4           Music   \n",
       "4              0.00   h264  People & Blogs   \n",
       "\n",
       "                                                 url  \n",
       "0  http://r2---sn-ovgq0oxu-5goe.c.youtube.com/vid...  \n",
       "1  http://r2---sn-ovgq0oxu-5goe.c.youtube.com/vid...  \n",
       "2  http://r2---sn-ovgq0oxu-5goe.c.youtube.com/vid...  \n",
       "3  http://r2---sn-ovgq0oxu-5goe.c.youtube.com/vid...  \n",
       "4  http://r1---sn-ovgq0oxu-5goe.c.youtube.com/vid...  "
      ]
     },
     "execution_count": 196,
     "metadata": {},
     "output_type": "execute_result"
    }
   ],
   "source": [
    "vdf.head()"
   ]
  },
  {
   "cell_type": "code",
   "execution_count": 197,
   "metadata": {},
   "outputs": [],
   "source": [
    "vdf.drop(['id','duration','frame rate(est.)','url','category','codec'],axis=1,inplace=True)"
   ]
  },
  {
   "cell_type": "code",
   "execution_count": 198,
   "metadata": {},
   "outputs": [
    {
     "name": "stdout",
     "output_type": "stream",
     "text": [
      "(168286, 5)\n"
     ]
    },
    {
     "data": {
      "text/html": [
       "<div>\n",
       "<style scoped>\n",
       "    .dataframe tbody tr th:only-of-type {\n",
       "        vertical-align: middle;\n",
       "    }\n",
       "\n",
       "    .dataframe tbody tr th {\n",
       "        vertical-align: top;\n",
       "    }\n",
       "\n",
       "    .dataframe thead th {\n",
       "        text-align: right;\n",
       "    }\n",
       "</style>\n",
       "<table border=\"1\" class=\"dataframe\">\n",
       "  <thead>\n",
       "    <tr style=\"text-align: right;\">\n",
       "      <th></th>\n",
       "      <th>bitrate(video)</th>\n",
       "      <th>bitrate</th>\n",
       "      <th>height</th>\n",
       "      <th>width</th>\n",
       "      <th>frame rate</th>\n",
       "    </tr>\n",
       "  </thead>\n",
       "  <tbody>\n",
       "    <tr>\n",
       "      <th>0</th>\n",
       "      <td>274</td>\n",
       "      <td>373</td>\n",
       "      <td>568</td>\n",
       "      <td>320</td>\n",
       "      <td>29.97</td>\n",
       "    </tr>\n",
       "    <tr>\n",
       "      <th>1</th>\n",
       "      <td>396</td>\n",
       "      <td>512</td>\n",
       "      <td>480</td>\n",
       "      <td>270</td>\n",
       "      <td>29.97</td>\n",
       "    </tr>\n",
       "    <tr>\n",
       "      <th>2</th>\n",
       "      <td>263</td>\n",
       "      <td>324</td>\n",
       "      <td>400</td>\n",
       "      <td>226</td>\n",
       "      <td>29.97</td>\n",
       "    </tr>\n",
       "    <tr>\n",
       "      <th>3</th>\n",
       "      <td>55</td>\n",
       "      <td>85</td>\n",
       "      <td>176</td>\n",
       "      <td>144</td>\n",
       "      <td>12.00</td>\n",
       "    </tr>\n",
       "    <tr>\n",
       "      <th>4</th>\n",
       "      <td>1183</td>\n",
       "      <td>1261</td>\n",
       "      <td>640</td>\n",
       "      <td>480</td>\n",
       "      <td>24.00</td>\n",
       "    </tr>\n",
       "  </tbody>\n",
       "</table>\n",
       "</div>"
      ],
      "text/plain": [
       "   bitrate(video)  bitrate  height  width  frame rate\n",
       "0             274      373     568    320       29.97\n",
       "1             396      512     480    270       29.97\n",
       "2             263      324     400    226       29.97\n",
       "3              55       85     176    144       12.00\n",
       "4            1183     1261     640    480       24.00"
      ]
     },
     "execution_count": 198,
     "metadata": {},
     "output_type": "execute_result"
    }
   ],
   "source": [
    "vdf=vdf[[\"bitrate(video)\",\"bitrate\",\"height\",\"width\",\"frame rate\"]]\n",
    "print(vdf.shape)\n",
    "vdf.head()"
   ]
  },
  {
   "cell_type": "code",
   "execution_count": 199,
   "metadata": {},
   "outputs": [
    {
     "data": {
      "text/html": [
       "<div>\n",
       "<style scoped>\n",
       "    .dataframe tbody tr th:only-of-type {\n",
       "        vertical-align: middle;\n",
       "    }\n",
       "\n",
       "    .dataframe tbody tr th {\n",
       "        vertical-align: top;\n",
       "    }\n",
       "\n",
       "    .dataframe thead th {\n",
       "        text-align: right;\n",
       "    }\n",
       "</style>\n",
       "<table border=\"1\" class=\"dataframe\">\n",
       "  <thead>\n",
       "    <tr style=\"text-align: right;\">\n",
       "      <th></th>\n",
       "      <th>bitrate(video)</th>\n",
       "      <th>bitrate</th>\n",
       "      <th>height</th>\n",
       "      <th>width</th>\n",
       "      <th>frame rate</th>\n",
       "    </tr>\n",
       "  </thead>\n",
       "  <tbody>\n",
       "    <tr>\n",
       "      <th>count</th>\n",
       "      <td>168286.000000</td>\n",
       "      <td>168286.00000</td>\n",
       "      <td>168286.000000</td>\n",
       "      <td>168286.000000</td>\n",
       "      <td>168286.000000</td>\n",
       "    </tr>\n",
       "    <tr>\n",
       "      <th>mean</th>\n",
       "      <td>624.363025</td>\n",
       "      <td>730.62149</td>\n",
       "      <td>561.018706</td>\n",
       "      <td>368.399701</td>\n",
       "      <td>24.564592</td>\n",
       "    </tr>\n",
       "    <tr>\n",
       "      <th>std</th>\n",
       "      <td>860.955654</td>\n",
       "      <td>919.15473</td>\n",
       "      <td>359.071569</td>\n",
       "      <td>201.274180</td>\n",
       "      <td>7.396615</td>\n",
       "    </tr>\n",
       "    <tr>\n",
       "      <th>min</th>\n",
       "      <td>0.000000</td>\n",
       "      <td>0.00000</td>\n",
       "      <td>100.000000</td>\n",
       "      <td>88.000000</td>\n",
       "      <td>0.000000</td>\n",
       "    </tr>\n",
       "    <tr>\n",
       "      <th>25%</th>\n",
       "      <td>231.000000</td>\n",
       "      <td>289.00000</td>\n",
       "      <td>320.000000</td>\n",
       "      <td>240.000000</td>\n",
       "      <td>23.980000</td>\n",
       "    </tr>\n",
       "    <tr>\n",
       "      <th>50%</th>\n",
       "      <td>349.000000</td>\n",
       "      <td>459.00000</td>\n",
       "      <td>480.000000</td>\n",
       "      <td>360.000000</td>\n",
       "      <td>29.920000</td>\n",
       "    </tr>\n",
       "    <tr>\n",
       "      <th>75%</th>\n",
       "      <td>640.000000</td>\n",
       "      <td>826.00000</td>\n",
       "      <td>640.000000</td>\n",
       "      <td>480.000000</td>\n",
       "      <td>29.970000</td>\n",
       "    </tr>\n",
       "    <tr>\n",
       "      <th>max</th>\n",
       "      <td>22229.000000</td>\n",
       "      <td>22421.00000</td>\n",
       "      <td>2592.000000</td>\n",
       "      <td>1944.000000</td>\n",
       "      <td>59.940000</td>\n",
       "    </tr>\n",
       "  </tbody>\n",
       "</table>\n",
       "</div>"
      ],
      "text/plain": [
       "       bitrate(video)       bitrate         height          width  \\\n",
       "count   168286.000000  168286.00000  168286.000000  168286.000000   \n",
       "mean       624.363025     730.62149     561.018706     368.399701   \n",
       "std        860.955654     919.15473     359.071569     201.274180   \n",
       "min          0.000000       0.00000     100.000000      88.000000   \n",
       "25%        231.000000     289.00000     320.000000     240.000000   \n",
       "50%        349.000000     459.00000     480.000000     360.000000   \n",
       "75%        640.000000     826.00000     640.000000     480.000000   \n",
       "max      22229.000000   22421.00000    2592.000000    1944.000000   \n",
       "\n",
       "          frame rate  \n",
       "count  168286.000000  \n",
       "mean       24.564592  \n",
       "std         7.396615  \n",
       "min         0.000000  \n",
       "25%        23.980000  \n",
       "50%        29.920000  \n",
       "75%        29.970000  \n",
       "max        59.940000  "
      ]
     },
     "execution_count": 199,
     "metadata": {},
     "output_type": "execute_result"
    }
   ],
   "source": [
    "vdf.describe()"
   ]
  },
  {
   "cell_type": "code",
   "execution_count": 200,
   "metadata": {},
   "outputs": [
    {
     "name": "stdout",
     "output_type": "stream",
     "text": [
      "bitrate(video)      int64\n",
      "bitrate             int64\n",
      "height              int64\n",
      "width               int64\n",
      "frame rate        float64\n",
      "dtype: object\n"
     ]
    }
   ],
   "source": [
    "print(vdf.dtypes)"
   ]
  },
  {
   "cell_type": "code",
   "execution_count": 152,
   "metadata": {},
   "outputs": [],
   "source": [
    "###TRIED TO USE LABEL ENCODER WITH CODEC(STRING) COLUMN INCLUDED.\n",
    "###HOWEVER, THE PREDICTION FOR UNKNOW DATA GIVES ALL ZERO \n",
    "\n",
    "###Codec Column is string Object. \n",
    "###Therefore we first need to apply LabelEncoder to it before converting it into float for normalization\n",
    "\n",
    "#from sklearn import preprocessing\n",
    "#from sklearn.preprocessing import LabelEncoder\n",
    "#from sklearn_pandas import DataFrameMapper, cross_val_score\n",
    "#from collections import defaultdict\n",
    "#vdf_cols=[\"bitrate(video)\",\"bitrate\",\"height\",\"width\",\"frame rate\",\"codec\"]\n",
    "#le=preprocessing.LabelEncoder()\n",
    "#cols = [(vdf_cols[i], LabelEncoder()) for i,col in enumerate(vdf_cols)]\n",
    "#mapper = DataFrameMapper(cols)\n",
    "#fit_array=mapper.fit_transform(vdf.copy())\n",
    "#d=defaultdict(LabelEncoder)\n",
    "#fit_vdf=vdf.apply(lambda x: d[x.name].fit_transform(x))"
   ]
  },
  {
   "cell_type": "code",
   "execution_count": 201,
   "metadata": {},
   "outputs": [
    {
     "name": "stdout",
     "output_type": "stream",
     "text": [
      "Dataframe shape:  (168286, 5) \n",
      "\n"
     ]
    }
   ],
   "source": [
    "from sklearn import preprocessing\n",
    "float_array = vdf.values.astype(float)\n",
    "min_max_scaler = preprocessing.MinMaxScaler()\n",
    "scaled_array = min_max_scaler.fit_transform(float_array)\n",
    "vdf_normalized = pd.DataFrame(scaled_array,columns = [\"bitrate(video)\",\"bitrate\",\"height\",\"width\",\"frame rate\"])\n",
    "print(\"Dataframe shape: \",vdf_normalized.shape,\"\\n\") # 392 rows, 7 columns + header"
   ]
  },
  {
   "cell_type": "code",
   "execution_count": 202,
   "metadata": {},
   "outputs": [
    {
     "data": {
      "text/html": [
       "<div>\n",
       "<style scoped>\n",
       "    .dataframe tbody tr th:only-of-type {\n",
       "        vertical-align: middle;\n",
       "    }\n",
       "\n",
       "    .dataframe tbody tr th {\n",
       "        vertical-align: top;\n",
       "    }\n",
       "\n",
       "    .dataframe thead th {\n",
       "        text-align: right;\n",
       "    }\n",
       "</style>\n",
       "<table border=\"1\" class=\"dataframe\">\n",
       "  <thead>\n",
       "    <tr style=\"text-align: right;\">\n",
       "      <th></th>\n",
       "      <th>bitrate(video)</th>\n",
       "      <th>bitrate</th>\n",
       "      <th>height</th>\n",
       "      <th>width</th>\n",
       "      <th>frame rate</th>\n",
       "    </tr>\n",
       "  </thead>\n",
       "  <tbody>\n",
       "    <tr>\n",
       "      <th>0</th>\n",
       "      <td>0.012326</td>\n",
       "      <td>0.016636</td>\n",
       "      <td>0.187801</td>\n",
       "      <td>0.125000</td>\n",
       "      <td>0.5000</td>\n",
       "    </tr>\n",
       "    <tr>\n",
       "      <th>1</th>\n",
       "      <td>0.017815</td>\n",
       "      <td>0.022836</td>\n",
       "      <td>0.152488</td>\n",
       "      <td>0.098060</td>\n",
       "      <td>0.5000</td>\n",
       "    </tr>\n",
       "    <tr>\n",
       "      <th>2</th>\n",
       "      <td>0.011831</td>\n",
       "      <td>0.014451</td>\n",
       "      <td>0.120385</td>\n",
       "      <td>0.074353</td>\n",
       "      <td>0.5000</td>\n",
       "    </tr>\n",
       "    <tr>\n",
       "      <th>3</th>\n",
       "      <td>0.002474</td>\n",
       "      <td>0.003791</td>\n",
       "      <td>0.030498</td>\n",
       "      <td>0.030172</td>\n",
       "      <td>0.2002</td>\n",
       "    </tr>\n",
       "    <tr>\n",
       "      <th>4</th>\n",
       "      <td>0.053219</td>\n",
       "      <td>0.056242</td>\n",
       "      <td>0.216693</td>\n",
       "      <td>0.211207</td>\n",
       "      <td>0.4004</td>\n",
       "    </tr>\n",
       "  </tbody>\n",
       "</table>\n",
       "</div>"
      ],
      "text/plain": [
       "   bitrate(video)   bitrate    height     width  frame rate\n",
       "0        0.012326  0.016636  0.187801  0.125000      0.5000\n",
       "1        0.017815  0.022836  0.152488  0.098060      0.5000\n",
       "2        0.011831  0.014451  0.120385  0.074353      0.5000\n",
       "3        0.002474  0.003791  0.030498  0.030172      0.2002\n",
       "4        0.053219  0.056242  0.216693  0.211207      0.4004"
      ]
     },
     "execution_count": 202,
     "metadata": {},
     "output_type": "execute_result"
    }
   ],
   "source": [
    "#print(fit_vdf.shape)\n",
    "#fit_vdf.head()\n",
    "vdf_normalized.head()"
   ]
  },
  {
   "cell_type": "code",
   "execution_count": 203,
   "metadata": {},
   "outputs": [],
   "source": [
    "#fit_vdf.apply(lambda x: d[x.name].inverse_transform(x))"
   ]
  },
  {
   "cell_type": "code",
   "execution_count": 129,
   "metadata": {},
   "outputs": [],
   "source": [
    "#print(vdf_normalized[0:5])\n",
    "#print(vdf_normalized[-5:])"
   ]
  },
  {
   "cell_type": "code",
   "execution_count": 204,
   "metadata": {},
   "outputs": [],
   "source": [
    "#X = fit_vdf.drop('bitrate(video)',axis=1)\n",
    "#y = fit_vdf['bitrate(video)']\n",
    "X = vdf_normalized.drop('bitrate(video)',axis=1)\n",
    "y = vdf_normalized['bitrate(video)']"
   ]
  },
  {
   "cell_type": "code",
   "execution_count": 205,
   "metadata": {},
   "outputs": [
    {
     "name": "stdout",
     "output_type": "stream",
     "text": [
      "X_train shape:  (126214, 4)\n",
      "y_train shape:  (126214,)\n",
      "X_test shape:  (42072, 4)\n",
      "y_test shape:  (42072,)\n"
     ]
    }
   ],
   "source": [
    "# Split data to training and test\n",
    "from sklearn.model_selection import train_test_split\n",
    "# Split X and y into X_ and y_\n",
    "X_train, X_test, y_train, y_test = train_test_split(X, y, test_size=0.25, random_state=1)\n",
    "print(\"X_train shape: \",X_train.shape) #126214 rows 5 cols\n",
    "print(\"y_train shape: \",y_train.shape) #126214 rows 1 col\n",
    "print(\"X_test shape: \",X_test.shape)  #42072 rows 5 cols\n",
    "print(\"y_test shape: \",y_test.shape)  #42072 rows 1 col\n",
    "# print(y_train)"
   ]
  },
  {
   "cell_type": "code",
   "execution_count": 206,
   "metadata": {},
   "outputs": [
    {
     "name": "stdout",
     "output_type": "stream",
     "text": [
      "dict_keys(['Linear_Regression', 'Ridge', 'Lasso', 'LassoLars', 'BayesianRidge'])\n"
     ]
    }
   ],
   "source": [
    "# Training models in Python dictionary\n",
    "import math\n",
    "from sklearn.metrics import mean_squared_error\n",
    "from sklearn.linear_model import LinearRegression\n",
    "from sklearn.linear_model import Ridge\n",
    "from sklearn.linear_model import Lasso\n",
    "from sklearn.linear_model import LassoLars\n",
    "from sklearn.linear_model import BayesianRidge\n",
    "\n",
    "# Next line is \"dictionary\" data structure from class 1\n",
    "d_models = {\"Linear_Regression\": LinearRegression(),\n",
    "            \"Ridge\": Ridge(alpha=0.5),\n",
    "            \"Lasso\": Lasso(alpha=0.1),\n",
    "            \"LassoLars\": LassoLars(alpha=0.1),\n",
    "            \"BayesianRidge\": BayesianRidge()}\n",
    "models_list = d_models.keys()\n",
    "print(models_list)"
   ]
  },
  {
   "cell_type": "code",
   "execution_count": 207,
   "metadata": {},
   "outputs": [
    {
     "name": "stdout",
     "output_type": "stream",
     "text": [
      "Linear_Regression   0.007415520125717773\n",
      "Ridge   0.007420566178463407\n",
      "Lasso   0.03857602059335691\n",
      "LassoLars   0.03857602059335691\n",
      "BayesianRidge   0.007415522481238007\n"
     ]
    }
   ],
   "source": [
    "for regression_model in models_list:\n",
    "    regressor = d_models[regression_model]\n",
    "    regressor.fit(X_train,y_train)\n",
    "    y_predict = regressor.predict(X_test)\n",
    "    regression_model_mse = mean_squared_error(y_predict, y_test)\n",
    "    print(regression_model,\" \",math.sqrt(regression_model_mse))\n",
    "    \n",
    "##From the output the one with least sqrt of (MeanSquareError) is the best fit.\n",
    "##In this case it would be Linear Regression"
   ]
  },
  {
   "cell_type": "code",
   "execution_count": 208,
   "metadata": {},
   "outputs": [
    {
     "name": "stdout",
     "output_type": "stream",
     "text": [
      "-0.0015579309463007798\n",
      "[ 0.8645261   0.01772181  0.00653458 -0.00683659]\n",
      "Number of coefficients is  4\n"
     ]
    }
   ],
   "source": [
    "# Training model\n",
    "###Regression one more time with winning model\n",
    "from sklearn.linear_model import LinearRegression\n",
    "lm = LinearRegression()\n",
    "lm.fit(X_train, y_train)\n",
    "print(lm.intercept_)\n",
    "print(lm.coef_)\n",
    "print (\"Number of coefficients is \",len(lm.coef_))"
   ]
  },
  {
   "cell_type": "code",
   "execution_count": 209,
   "metadata": {},
   "outputs": [
    {
     "name": "stdout",
     "output_type": "stream",
     "text": [
      "0.007415520125717773\n",
      "[0.00966152 0.02312663 0.0157859  ... 0.03263172 0.0092249  0.02128569]\n"
     ]
    }
   ],
   "source": [
    "import math\n",
    "from sklearn.metrics import mean_squared_error\n",
    "y_predict = lm.predict(X_test)\n",
    "regression_model_mse = mean_squared_error(y_predict, y_test)\n",
    "print(math.sqrt(regression_model_mse))\n",
    "print(y_predict)"
   ]
  },
  {
   "cell_type": "code",
   "execution_count": 210,
   "metadata": {},
   "outputs": [],
   "source": [
    "# Try to make predictions on unknown data\n",
    "#Put bitrate(video) = 1300 as dummy value\n",
    "# bitrate-1087 \n",
    "# height in pixels – 854\n",
    "# width in pixels – 480\n",
    "# frame rate – 29.97"
   ]
  },
  {
   "cell_type": "code",
   "execution_count": 211,
   "metadata": {},
   "outputs": [
    {
     "name": "stdout",
     "output_type": "stream",
     "text": [
      "Starting predict request:\n"
     ]
    },
    {
     "data": {
      "text/plain": [
       "array([[1300.  , 1087.  ,  854.  ,  480.  ,   29.97]])"
      ]
     },
     "execution_count": 211,
     "metadata": {},
     "output_type": "execute_result"
    }
   ],
   "source": [
    "first_test = np.array([[1300,1087,854,480,29.97]])\n",
    "print(\"Starting predict request:\")\n",
    "#first_test=pd.DataFrame(first_test, columns=vdf_cols)\n",
    "first_test"
   ]
  },
  {
   "cell_type": "code",
   "execution_count": 212,
   "metadata": {},
   "outputs": [],
   "source": [
    "####NOT FOR MIN_MAX_SCALER\n",
    "\n",
    "#le=preprocessing.LabelEncoder()\n",
    "#cols = [(first_test_cols[i], LabelEncoder()) for i,col in enumerate(first_test_cols)]\n",
    "#mapper = DataFrameMapper(cols)\n",
    "#first_test_fit_arr=mapper.fit_transform(first_test.copy())\n",
    "#first_test_float_arr=first_test_fit_arr.astype(float)\n",
    "#first_test_transform = mapper.fit_transform(first_test) # apply the same transform\n",
    "#first_test_transform=first_test.apply(lambda x: d[x.name].fit_transform(x))\n",
    "#first_test_transform=le.transform(first_test)\n",
    "#print(\"Normalized new test row :\",first_test_transform)"
   ]
  },
  {
   "cell_type": "code",
   "execution_count": 213,
   "metadata": {},
   "outputs": [
    {
     "name": "stdout",
     "output_type": "stream",
     "text": [
      "Normalized new test row : [[0.05848216 0.04848133 0.30256822 0.2112069  0.5       ]]\n"
     ]
    }
   ],
   "source": [
    "first_test_transform = min_max_scaler.transform(first_test) # apply the same transform\n",
    "print(\"Normalized new test row :\",first_test_transform)"
   ]
  },
  {
   "cell_type": "code",
   "execution_count": 214,
   "metadata": {},
   "outputs": [
    {
     "data": {
      "text/plain": [
       "[[0.048481334463226444, 0.3025682182985554, 0.21120689655172414, 0.5]]"
      ]
     },
     "execution_count": 214,
     "metadata": {},
     "output_type": "execute_result"
    }
   ],
   "source": [
    "test_1 = list(first_test_transform[0][1:5]) # Extract all values excluding bitrate(video)\n",
    "test_seq = [test_1] # make a list of list -because the model understands list of list\n",
    "test_seq\n",
    "\n",
    "#test_1 = list(first_test_transform[:,[0,2,3,4,5]]) # Extract all values excluding bitrate(video) \n",
    "#test_1"
   ]
  },
  {
   "cell_type": "code",
   "execution_count": 215,
   "metadata": {},
   "outputs": [
    {
     "name": "stdout",
     "output_type": "stream",
     "text": [
      "Test result bitrate(video) (still normalized):  0.043679360875558106\n"
     ]
    }
   ],
   "source": [
    "test_result = lm.predict(test_seq) # apply model prediction\n",
    "print(\"Test result bitrate(video) (still normalized): \",test_result[0]) # this is still normalized mpg result"
   ]
  },
  {
   "cell_type": "code",
   "execution_count": 216,
   "metadata": {},
   "outputs": [
    {
     "name": "stdout",
     "output_type": "stream",
     "text": [
      "Test row with predicted (still normalized):  [[0.04367936 0.04848133 0.30256822 0.2112069  0.5       ]]\n"
     ]
    }
   ],
   "source": [
    "first_test_transform[0][0] = test_result[0] # put result back, replace dummy with predicted\n",
    "print(\"Test row with predicted (still normalized): \",first_test_transform)"
   ]
  },
  {
   "cell_type": "code",
   "execution_count": 218,
   "metadata": {},
   "outputs": [
    {
     "name": "stdout",
     "output_type": "stream",
     "text": [
      "Final test result:  [[ 970.9485129 1087.         854.         480.          29.97     ]]\n"
     ]
    }
   ],
   "source": [
    "result = min_max_scaler.inverse_transform(first_test_transform) # apply inverse transform\n",
    "print(\"Final test result: \",result)\n",
    "#The actual Value is 1187----SO PRETTY CLOSE :)"
   ]
  }
 ],
 "metadata": {
  "kernelspec": {
   "display_name": "Python 3",
   "language": "python",
   "name": "python3"
  },
  "language_info": {
   "codemirror_mode": {
    "name": "ipython",
    "version": 3
   },
   "file_extension": ".py",
   "mimetype": "text/x-python",
   "name": "python",
   "nbconvert_exporter": "python",
   "pygments_lexer": "ipython3",
   "version": "3.6.5"
  }
 },
 "nbformat": 4,
 "nbformat_minor": 2
}
